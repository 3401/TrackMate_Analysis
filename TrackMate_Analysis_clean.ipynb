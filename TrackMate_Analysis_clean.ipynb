{
 "cells": [
  {
   "cell_type": "code",
   "execution_count": null,
   "metadata": {
    "collapsed": true
   },
   "outputs": [],
   "source": [
    "\n"
   ]
  },
  {
   "cell_type": "code",
   "execution_count": null,
   "metadata": {
    "collapsed": true
   },
   "outputs": [],
   "source": [
    "#tried filtering tracks to not include non-motile guys from the start\n",
    "path = r'/Users/maxvilla/Desktop/grays_purps/Links in tracks statistics_2_filtered.txt'\n",
    "rd4 = pd.read_table(path)\n",
    "\n",
    "rd5  = rd4.pivot(index='EDGE_TIME', columns='TRACK_ID', values='DISPLACEMENT')\n",
    "rd5.fillna(0)\n",
    "rd5.mean(1).plot()\n",
    "plt.gca().set_ylim([0,0.3])\n",
    "plt.gca().set_ylabel('VELOCITY')\n",
    "plt.gca().set_title('MEAN VELOCITY OF CHORMATIUM AFTER LIGHT EXPOSURE')"
   ]
  }
 ],
 "metadata": {
  "kernelspec": {
   "display_name": "Python 2",
   "language": "python",
   "name": "python2"
  },
  "language_info": {
   "codemirror_mode": {
    "name": "ipython",
    "version": 2
   },
   "file_extension": ".py",
   "mimetype": "text/x-python",
   "name": "python",
   "nbconvert_exporter": "python",
   "pygments_lexer": "ipython2",
   "version": "2.7.11"
  }
 },
 "nbformat": 4,
 "nbformat_minor": 0
}
